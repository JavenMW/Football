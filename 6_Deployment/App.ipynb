{
 "cells": [
  {
   "cell_type": "markdown",
   "id": "7006797f",
   "metadata": {},
   "source": [
    "# Notebook for testing app code"
   ]
  },
  {
   "cell_type": "code",
   "execution_count": null,
   "id": "041c0111",
   "metadata": {},
   "outputs": [
    {
     "data": {
      "text/plain": [
       "-0.767423328900033"
      ]
     },
     "execution_count": 5,
     "metadata": {},
     "output_type": "execute_result"
    }
   ],
   "source": [
    "import joblib\n",
    "import pandas as pd\n",
    "from fastapi import FastAPI\n",
    "from pydantic import BaseModel\n",
    "\n",
    "app = FastAPI()\n",
    "\n",
    "class DataHandler:\n",
    "    def __init__(self):\n",
    "        self.data: pd.DataFrame = joblib.load(\"C:/Code/Git Repositories/Football/Football/3_Data_Preparation/rawdata_clean.pkl\")\n",
    "\n",
    "    def team_query(self, home_team: str, away_team: str) -> pd.DataFrame:\n",
    "\n",
    "        home_team_stats = self.data[self.data['home_team'] == home_team].sort_values(by=['season', 'week'], ascending=False).iloc[0]\n",
    "        home_team_stats = home_team_stats.loc['season':'hlb3_interception_yards']\n",
    "        away_team_stats = self.data[self.data['away_team'] == away_team].sort_values(by=['season', 'week'], ascending=False).iloc[0]\n",
    "        away_team_stats = away_team_stats.loc['aqb1':'alb3_interception_yards']\n",
    "\n",
    "        combined_dict = {}\n",
    "\n",
    "        # Prefix home stats\n",
    "        for col, val in home_team_stats.items():\n",
    "            combined_dict[f\"{col}\"] = val\n",
    "\n",
    "        # Prefix away stats\n",
    "        for col, val in away_team_stats.items():\n",
    "            combined_dict[f\"{col}\"] = val\n",
    "\n",
    "        # Create a single-row DataFrame with correct types\n",
    "        combined_stats = pd.DataFrame([combined_dict])\n",
    "        \n",
    "\n",
    "        return combined_stats\n",
    "\n",
    "    \n",
    "    def preprocess_stats(self, game_stats: pd.DataFrame):\n",
    "\n",
    "        game_stats_processed = game_stats.select_dtypes(include=['float64', 'int64'])\n",
    "\n",
    "        return game_stats_processed\n",
    "    \n",
    "\n",
    "class ModelHandler:\n",
    "    def __init__(self):\n",
    "        self.lasso_pipe = joblib.load(\"C:/Code/Git Repositories/Football/Football/4_5_Modeling_and_Evaluation/lasso_pipeline.pkl\")\n",
    "\n",
    "    def make_prediction(self, home_team: str, away_team: str):\n",
    "        query = DataHandler()\n",
    "\n",
    "        game_stats = query.team_query(home_team=home_team, away_team=away_team)\n",
    "        game_stats_processed = query.preprocess_stats(game_stats)\n",
    "        prediction = self.lasso_pipe.predict(X=game_stats_processed)\n",
    "        return prediction[0]\n",
    "\n",
    "\n",
    "# Define input data model for API\n",
    "class Teams(BaseModel):\n",
    "    home_team: str\n",
    "    away_team: str\n",
    "\n",
    "model = ModelHandler()\n",
    "\n",
    "@app.post(\"/predict\")\n",
    "def predict_margin(teams: Teams):\n",
    "    pred = model.make_prediction(teams.home_team, teams.away_team)\n",
    "\n",
    "    if pred > 0:\n",
    "        winner = teams.home_team\n",
    "    else:\n",
    "        winner = teams.away_team\n",
    "\n",
    "    return {\"predicted_margin\": pred, \"predicted_winner \": winner}\n",
    "\n",
    "    \n",
    "\n",
    "def main(): \n",
    "\n",
    "    model = ModelHandler()\n",
    "    \n",
    "    return model.make_prediction('DAL', 'CIN')\n",
    "\n",
    "main()\n",
    "\n",
    "\n"
   ]
  },
  {
   "cell_type": "code",
   "execution_count": null,
   "id": "8d55a799",
   "metadata": {},
   "outputs": [],
   "source": []
  }
 ],
 "metadata": {
  "kernelspec": {
   "display_name": "football",
   "language": "python",
   "name": "python3"
  },
  "language_info": {
   "codemirror_mode": {
    "name": "ipython",
    "version": 3
   },
   "file_extension": ".py",
   "mimetype": "text/x-python",
   "name": "python",
   "nbconvert_exporter": "python",
   "pygments_lexer": "ipython3",
   "version": "3.8.20"
  }
 },
 "nbformat": 4,
 "nbformat_minor": 5
}
