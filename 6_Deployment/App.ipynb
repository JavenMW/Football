{
 "cells": [
  {
   "cell_type": "markdown",
   "id": "7006797f",
   "metadata": {},
   "source": [
    "# Notebook for testing app code"
   ]
  },
  {
   "cell_type": "code",
   "execution_count": 75,
   "id": "041c0111",
   "metadata": {},
   "outputs": [],
   "source": [
    "import joblib\n",
    "import pandas as pd\n",
    "from fastapi import FastAPI\n",
    "from fastapi.middleware.cors import CORSMiddleware\n",
    "from pydantic import BaseModel\n",
    "\n",
    "# app = FastAPI()\n",
    "\n",
    "# app.add_middleware(\n",
    "#     CORSMiddleware,\n",
    "#     allow_origins=[\"*\"],  # replace with your frontend URL for production\n",
    "#     allow_credentials=True,\n",
    "#     allow_methods=[\"*\"],\n",
    "#     allow_headers=[\"*\"],\n",
    "# )\n",
    "\n",
    "class DataHandler:\n",
    "    def __init__(self):\n",
    "        self.data: pd.DataFrame = joblib.load(\"C:/Code/Git Repositories/Football/Football/3_Data_Preparation/rawdata_clean.pkl\")\n",
    "\n",
    "    def team_query(self, home_team: str, away_team: str) -> pd.DataFrame:\n",
    "\n",
    "        home_team_stats = self.data[self.data['home_team'] == home_team].sort_values(by=['season', 'week'], ascending=False).iloc[:3]\n",
    "        home_team_stats = home_team_stats.loc[:, 'season':'hlb3_interception_yards']\n",
    "        away_team_stats = self.data[self.data['away_team'] == away_team].sort_values(by=['season', 'week'], ascending=False).iloc[:3]\n",
    "        away_team_stats = away_team_stats.loc[:, 'aqb1':'alb3_interception_yards']\n",
    "\n",
    "        # home_team_stats = self.data[self.data['home_team'] == home_team].sort_values(by=['season', 'week'], ascending=False).iloc[0]\n",
    "        # home_team_stats = home_team_stats.loc['season':'hlb3_interception_yards']\n",
    "        # away_team_stats = self.data[self.data['away_team'] == away_team].sort_values(by=['season', 'week'], ascending=False).iloc[0]\n",
    "        # away_team_stats = away_team_stats.loc['aqb1':'alb3_interception_yards']\n",
    "\n",
    "        combined_dict = {}\n",
    "        away_team_stats_mean = away_team_stats.select_dtypes(include=['float64', 'int64']).mean(axis=0)\n",
    "        home_team_stats_mean = home_team_stats.select_dtypes(include=['float64', 'int64']).mean(axis=0)\n",
    "        # Prefix home stats\n",
    "\n",
    "        for col, val in home_team_stats_mean.items():\n",
    "            combined_dict[f\"{col}\"] = val\n",
    "\n",
    "        # Prefix away stats\n",
    "        for col, val in away_team_stats_mean.items():\n",
    "            combined_dict[f\"{col}\"] = val\n",
    "\n",
    "        # Create a single-row DataFrame with correct types\n",
    "        combined_stats = pd.DataFrame([combined_dict])\n",
    "\n",
    "        print(combined_stats.head())\n",
    "        return combined_stats\n",
    "\n",
    "    \n",
    "    def preprocess_stats(self, game_stats: pd.DataFrame):\n",
    "\n",
    "        game_stats_processed = game_stats.select_dtypes(include=['float64', 'int64'])\n",
    "\n",
    "        return game_stats_processed\n",
    "    \n",
    "\n",
    "class ModelHandler:\n",
    "    def __init__(self):\n",
    "        self.lasso_pipe = joblib.load(\"C:/Code/Git Repositories/Football/Football/4_5_Modeling_and_Evaluation/lasso_pipeline.pkl\")\n",
    "\n",
    "    def make_prediction(self, home_team: str, away_team: str):\n",
    "        query = DataHandler()\n",
    "\n",
    "        game_stats = query.team_query(home_team=home_team, away_team=away_team)\n",
    "        game_stats_processed = query.preprocess_stats(game_stats)\n",
    "        prediction = self.lasso_pipe.predict(X=game_stats_processed)\n",
    "        return prediction[0]\n",
    "\n",
    "\n",
    "# Define input data model for API\n",
    "class Teams(BaseModel):\n",
    "    home_team: str\n",
    "    away_team: str\n",
    "\n",
    "model = ModelHandler()\n",
    "\n",
    "# @app.post(\"/predict\")\n",
    "def predict_margin(teams: Teams):\n",
    "    print(f\"Received request: {teams.home_team} vs {teams.away_team}\")\n",
    "    pred = model.make_prediction(teams.home_team, teams.away_team)\n",
    "\n",
    "    if pred > 0:\n",
    "        winner = teams.home_team\n",
    "    else:\n",
    "        winner = teams.away_team\n",
    "    print(f\"Prediction: {pred}, Winner: {winner}\")\n",
    "    return {\"predicted_margin\": pred, \"predicted_winner\": winner}\n",
    "\n",
    "def main():\n",
    "    query = DataHandler()\n",
    "\n",
    "    return query.team_query('DAL', 'BAL')\n",
    "\n",
    "\n"
   ]
  },
  {
   "cell_type": "code",
   "execution_count": 76,
   "id": "8d55a799",
   "metadata": {},
   "outputs": [
    {
     "name": "stdout",
     "output_type": "stream",
     "text": [
      "   season  week  spread_line  hqb1_passing_epa  hqb1_completions  \\\n",
      "0  2024.0  16.0         -5.5          0.244109         20.666667   \n",
      "\n",
      "   hqb1_attempts  hqb1_passing_yards  hqb1_passing_tds  hqb1_interceptions  \\\n",
      "0      33.333333          239.666667               1.0            0.333333   \n",
      "\n",
      "   hqb1_sacks  ...  alb3_tackles_solo  alb3_tackles_with_assist  \\\n",
      "0         2.0  ...                2.0                       0.0   \n",
      "\n",
      "   alb3_tackles_for_loss  alb3_tackles_for_loss_yards  alb3_fumbles_forced  \\\n",
      "0               0.666667                          0.0                  0.0   \n",
      "\n",
      "   alb3_sacks  alb3_sack_yards  alb3_qb_hits  alb3_interceptions  \\\n",
      "0    0.666667         4.333333           1.0                 0.0   \n",
      "\n",
      "   alb3_interception_yards  \n",
      "0                      0.0  \n",
      "\n",
      "[1 rows x 331 columns]\n"
     ]
    },
    {
     "data": {
      "application/vnd.microsoft.datawrangler.viewer.v0+json": {
       "columns": [
        {
         "name": "index",
         "rawType": "int64",
         "type": "integer"
        },
        {
         "name": "season",
         "rawType": "float64",
         "type": "float"
        },
        {
         "name": "week",
         "rawType": "float64",
         "type": "float"
        },
        {
         "name": "spread_line",
         "rawType": "float64",
         "type": "float"
        },
        {
         "name": "hqb1_passing_epa",
         "rawType": "float64",
         "type": "float"
        },
        {
         "name": "hqb1_completions",
         "rawType": "float64",
         "type": "float"
        },
        {
         "name": "hqb1_attempts",
         "rawType": "float64",
         "type": "float"
        },
        {
         "name": "hqb1_passing_yards",
         "rawType": "float64",
         "type": "float"
        },
        {
         "name": "hqb1_passing_tds",
         "rawType": "float64",
         "type": "float"
        },
        {
         "name": "hqb1_interceptions",
         "rawType": "float64",
         "type": "float"
        },
        {
         "name": "hqb1_sacks",
         "rawType": "float64",
         "type": "float"
        },
        {
         "name": "hqb1_sack_yards",
         "rawType": "float64",
         "type": "float"
        },
        {
         "name": "hqb1_passing_first_downs",
         "rawType": "float64",
         "type": "float"
        },
        {
         "name": "hrb1_rushing_epa",
         "rawType": "float64",
         "type": "float"
        },
        {
         "name": "hrb1_rushing_yards",
         "rawType": "float64",
         "type": "float"
        },
        {
         "name": "hrb1_rushing_fumbles",
         "rawType": "float64",
         "type": "float"
        },
        {
         "name": "hrb1_rushing_fumbles_lost",
         "rawType": "float64",
         "type": "float"
        },
        {
         "name": "hrb1_receiving_epa",
         "rawType": "float64",
         "type": "float"
        },
        {
         "name": "hrb1_receiving_yards_after_catch",
         "rawType": "float64",
         "type": "float"
        },
        {
         "name": "hrb1_rushing_tds",
         "rawType": "float64",
         "type": "float"
        },
        {
         "name": "hwr1_receiving_epa",
         "rawType": "float64",
         "type": "float"
        },
        {
         "name": "hwr1_receptions",
         "rawType": "float64",
         "type": "float"
        },
        {
         "name": "hwr1_targets",
         "rawType": "float64",
         "type": "float"
        },
        {
         "name": "hwr1_receiving_tds",
         "rawType": "float64",
         "type": "float"
        },
        {
         "name": "hwr1_receiving_fumbles",
         "rawType": "float64",
         "type": "float"
        },
        {
         "name": "hwr1_receiving_fumbles_lost",
         "rawType": "float64",
         "type": "float"
        },
        {
         "name": "hwr1_receiving_first_downs",
         "rawType": "float64",
         "type": "float"
        },
        {
         "name": "hwr1_receiving_yards",
         "rawType": "float64",
         "type": "float"
        },
        {
         "name": "hwr1_receiving_yards_after_catch",
         "rawType": "float64",
         "type": "float"
        },
        {
         "name": "hwr2_receiving_epa",
         "rawType": "float64",
         "type": "float"
        },
        {
         "name": "hwr2_receptions",
         "rawType": "float64",
         "type": "float"
        },
        {
         "name": "hwr2_targets",
         "rawType": "float64",
         "type": "float"
        },
        {
         "name": "hwr2_receiving_tds",
         "rawType": "float64",
         "type": "float"
        },
        {
         "name": "hwr2_receiving_fumbles",
         "rawType": "float64",
         "type": "float"
        },
        {
         "name": "hwr2_receiving_fumbles_lost",
         "rawType": "float64",
         "type": "float"
        },
        {
         "name": "hwr2_receiving_first_downs",
         "rawType": "float64",
         "type": "float"
        },
        {
         "name": "hwr2_receiving_yards",
         "rawType": "float64",
         "type": "float"
        },
        {
         "name": "hwr2_receiving_yards_after_catch",
         "rawType": "float64",
         "type": "float"
        },
        {
         "name": "hte1_receiving_epa",
         "rawType": "float64",
         "type": "float"
        },
        {
         "name": "hte1_receptions",
         "rawType": "float64",
         "type": "float"
        },
        {
         "name": "hte1_targets",
         "rawType": "float64",
         "type": "float"
        },
        {
         "name": "hte1_receiving_tds",
         "rawType": "float64",
         "type": "float"
        },
        {
         "name": "hte1_receiving_fumbles",
         "rawType": "float64",
         "type": "float"
        },
        {
         "name": "hte1_receiving_fumbles_lost",
         "rawType": "float64",
         "type": "float"
        },
        {
         "name": "hte1_receiving_first_downs",
         "rawType": "float64",
         "type": "float"
        },
        {
         "name": "hte1_receiving_yards",
         "rawType": "float64",
         "type": "float"
        },
        {
         "name": "hte1_receiving_yards_after_catch",
         "rawType": "float64",
         "type": "float"
        },
        {
         "name": "hdl1_tackles",
         "rawType": "float64",
         "type": "float"
        },
        {
         "name": "hdl1_tackles_solo",
         "rawType": "float64",
         "type": "float"
        },
        {
         "name": "hdl1_tackles_with_assist",
         "rawType": "float64",
         "type": "float"
        },
        {
         "name": "hdl1_tackles_for_loss",
         "rawType": "float64",
         "type": "float"
        },
        {
         "name": "hdl1_tackles_for_loss_yards",
         "rawType": "float64",
         "type": "float"
        },
        {
         "name": "hdl1_fumbles_forced",
         "rawType": "float64",
         "type": "float"
        },
        {
         "name": "hdl1_sacks",
         "rawType": "float64",
         "type": "float"
        },
        {
         "name": "hdl1_sack_yards",
         "rawType": "float64",
         "type": "float"
        },
        {
         "name": "hdl1_qb_hits",
         "rawType": "float64",
         "type": "float"
        },
        {
         "name": "hdl1_interceptions",
         "rawType": "float64",
         "type": "float"
        },
        {
         "name": "hdl1_interception_yards",
         "rawType": "float64",
         "type": "float"
        },
        {
         "name": "hdl2_tackles",
         "rawType": "float64",
         "type": "float"
        },
        {
         "name": "hdl2_tackles_solo",
         "rawType": "float64",
         "type": "float"
        },
        {
         "name": "hdl2_tackles_with_assist",
         "rawType": "float64",
         "type": "float"
        },
        {
         "name": "hdl2_tackles_for_loss",
         "rawType": "float64",
         "type": "float"
        },
        {
         "name": "hdl2_tackles_for_loss_yards",
         "rawType": "float64",
         "type": "float"
        },
        {
         "name": "hdl2_fumbles_forced",
         "rawType": "float64",
         "type": "float"
        },
        {
         "name": "hdl2_sacks",
         "rawType": "float64",
         "type": "float"
        },
        {
         "name": "hdl2_sack_yards",
         "rawType": "float64",
         "type": "float"
        },
        {
         "name": "hdl2_qb_hits",
         "rawType": "float64",
         "type": "float"
        },
        {
         "name": "hdl2_interceptions",
         "rawType": "float64",
         "type": "float"
        },
        {
         "name": "hdl2_interception_yards",
         "rawType": "float64",
         "type": "float"
        },
        {
         "name": "hdl3_tackles",
         "rawType": "float64",
         "type": "float"
        },
        {
         "name": "hdl3_tackles_solo",
         "rawType": "float64",
         "type": "float"
        },
        {
         "name": "hdl3_tackles_with_assist",
         "rawType": "float64",
         "type": "float"
        },
        {
         "name": "hdl3_tackles_for_loss",
         "rawType": "float64",
         "type": "float"
        },
        {
         "name": "hdl3_tackles_for_loss_yards",
         "rawType": "float64",
         "type": "float"
        },
        {
         "name": "hdl3_fumbles_forced",
         "rawType": "float64",
         "type": "float"
        },
        {
         "name": "hdl3_sacks",
         "rawType": "float64",
         "type": "float"
        },
        {
         "name": "hdl3_sack_yards",
         "rawType": "float64",
         "type": "float"
        },
        {
         "name": "hdl3_qb_hits",
         "rawType": "float64",
         "type": "float"
        },
        {
         "name": "hdl3_interceptions",
         "rawType": "float64",
         "type": "float"
        },
        {
         "name": "hdl3_interception_yards",
         "rawType": "float64",
         "type": "float"
        },
        {
         "name": "hdl4_tackles",
         "rawType": "float64",
         "type": "float"
        },
        {
         "name": "hdl4_tackles_solo",
         "rawType": "float64",
         "type": "float"
        },
        {
         "name": "hdl4_tackles_with_assist",
         "rawType": "float64",
         "type": "float"
        },
        {
         "name": "hdl4_tackles_for_loss",
         "rawType": "float64",
         "type": "float"
        },
        {
         "name": "hdl4_tackles_for_loss_yards",
         "rawType": "float64",
         "type": "float"
        },
        {
         "name": "hdl4_fumbles_forced",
         "rawType": "float64",
         "type": "float"
        },
        {
         "name": "hdl4_sacks",
         "rawType": "float64",
         "type": "float"
        },
        {
         "name": "hdl4_sack_yards",
         "rawType": "float64",
         "type": "float"
        },
        {
         "name": "hdl4_qb_hits",
         "rawType": "float64",
         "type": "float"
        },
        {
         "name": "hdl4_interceptions",
         "rawType": "float64",
         "type": "float"
        },
        {
         "name": "hdl4_interception_yards",
         "rawType": "float64",
         "type": "float"
        },
        {
         "name": "hdb1_tackles",
         "rawType": "float64",
         "type": "float"
        },
        {
         "name": "hdb1_tackles_solo",
         "rawType": "float64",
         "type": "float"
        },
        {
         "name": "hdb1_tackles_with_assist",
         "rawType": "float64",
         "type": "float"
        },
        {
         "name": "hdb1_tackles_for_loss",
         "rawType": "float64",
         "type": "float"
        },
        {
         "name": "hdb1_tackles_for_loss_yards",
         "rawType": "float64",
         "type": "float"
        },
        {
         "name": "hdb1_fumbles_forced",
         "rawType": "float64",
         "type": "float"
        },
        {
         "name": "hdb1_sacks",
         "rawType": "float64",
         "type": "float"
        },
        {
         "name": "hdb1_sack_yards",
         "rawType": "float64",
         "type": "float"
        },
        {
         "name": "hdb1_qb_hits",
         "rawType": "float64",
         "type": "float"
        },
        {
         "name": "hdb1_interceptions",
         "rawType": "float64",
         "type": "float"
        },
        {
         "name": "hdb1_interception_yards",
         "rawType": "float64",
         "type": "float"
        },
        {
         "name": "hdb2_tackles",
         "rawType": "float64",
         "type": "float"
        },
        {
         "name": "hdb2_tackles_solo",
         "rawType": "float64",
         "type": "float"
        },
        {
         "name": "hdb2_tackles_with_assist",
         "rawType": "float64",
         "type": "float"
        },
        {
         "name": "hdb2_tackles_for_loss",
         "rawType": "float64",
         "type": "float"
        },
        {
         "name": "hdb2_tackles_for_loss_yards",
         "rawType": "float64",
         "type": "float"
        },
        {
         "name": "hdb2_fumbles_forced",
         "rawType": "float64",
         "type": "float"
        },
        {
         "name": "hdb2_sacks",
         "rawType": "float64",
         "type": "float"
        },
        {
         "name": "hdb2_sack_yards",
         "rawType": "float64",
         "type": "float"
        },
        {
         "name": "hdb2_qb_hits",
         "rawType": "float64",
         "type": "float"
        },
        {
         "name": "hdb2_interceptions",
         "rawType": "float64",
         "type": "float"
        },
        {
         "name": "hdb2_interception_yards",
         "rawType": "float64",
         "type": "float"
        },
        {
         "name": "hdb3_tackles",
         "rawType": "float64",
         "type": "float"
        },
        {
         "name": "hdb3_tackles_solo",
         "rawType": "float64",
         "type": "float"
        },
        {
         "name": "hdb3_tackles_with_assist",
         "rawType": "float64",
         "type": "float"
        },
        {
         "name": "hdb3_tackles_for_loss",
         "rawType": "float64",
         "type": "float"
        },
        {
         "name": "hdb3_tackles_for_loss_yards",
         "rawType": "float64",
         "type": "float"
        },
        {
         "name": "hdb3_fumbles_forced",
         "rawType": "float64",
         "type": "float"
        },
        {
         "name": "hdb3_sacks",
         "rawType": "float64",
         "type": "float"
        },
        {
         "name": "hdb3_sack_yards",
         "rawType": "float64",
         "type": "float"
        },
        {
         "name": "hdb3_qb_hits",
         "rawType": "float64",
         "type": "float"
        },
        {
         "name": "hdb3_interceptions",
         "rawType": "float64",
         "type": "float"
        },
        {
         "name": "hdb3_interception_yards",
         "rawType": "float64",
         "type": "float"
        },
        {
         "name": "hdb4_tackles",
         "rawType": "float64",
         "type": "float"
        },
        {
         "name": "hdb4_tackles_solo",
         "rawType": "float64",
         "type": "float"
        },
        {
         "name": "hdb4_tackles_with_assist",
         "rawType": "float64",
         "type": "float"
        },
        {
         "name": "hdb4_tackles_for_loss",
         "rawType": "float64",
         "type": "float"
        },
        {
         "name": "hdb4_tackles_for_loss_yards",
         "rawType": "float64",
         "type": "float"
        },
        {
         "name": "hdb4_fumbles_forced",
         "rawType": "float64",
         "type": "float"
        },
        {
         "name": "hdb4_sacks",
         "rawType": "float64",
         "type": "float"
        },
        {
         "name": "hdb4_sack_yards",
         "rawType": "float64",
         "type": "float"
        },
        {
         "name": "hdb4_qb_hits",
         "rawType": "float64",
         "type": "float"
        },
        {
         "name": "hdb4_interceptions",
         "rawType": "float64",
         "type": "float"
        },
        {
         "name": "hdb4_interception_yards",
         "rawType": "float64",
         "type": "float"
        },
        {
         "name": "hlb1_tackles",
         "rawType": "float64",
         "type": "float"
        },
        {
         "name": "hlb1_tackles_solo",
         "rawType": "float64",
         "type": "float"
        },
        {
         "name": "hlb1_tackles_with_assist",
         "rawType": "float64",
         "type": "float"
        },
        {
         "name": "hlb1_tackles_for_loss",
         "rawType": "float64",
         "type": "float"
        },
        {
         "name": "hlb1_tackles_for_loss_yards",
         "rawType": "float64",
         "type": "float"
        },
        {
         "name": "hlb1_fumbles_forced",
         "rawType": "float64",
         "type": "float"
        },
        {
         "name": "hlb1_sacks",
         "rawType": "float64",
         "type": "float"
        },
        {
         "name": "hlb1_sack_yards",
         "rawType": "float64",
         "type": "float"
        },
        {
         "name": "hlb1_qb_hits",
         "rawType": "float64",
         "type": "float"
        },
        {
         "name": "hlb1_interceptions",
         "rawType": "float64",
         "type": "float"
        },
        {
         "name": "hlb1_interception_yards",
         "rawType": "float64",
         "type": "float"
        },
        {
         "name": "hlb2_tackles",
         "rawType": "float64",
         "type": "float"
        },
        {
         "name": "hlb2_tackles_solo",
         "rawType": "float64",
         "type": "float"
        },
        {
         "name": "hlb2_tackles_with_assist",
         "rawType": "float64",
         "type": "float"
        },
        {
         "name": "hlb2_tackles_for_loss",
         "rawType": "float64",
         "type": "float"
        },
        {
         "name": "hlb2_tackles_for_loss_yards",
         "rawType": "float64",
         "type": "float"
        },
        {
         "name": "hlb2_fumbles_forced",
         "rawType": "float64",
         "type": "float"
        },
        {
         "name": "hlb2_sacks",
         "rawType": "float64",
         "type": "float"
        },
        {
         "name": "hlb2_sack_yards",
         "rawType": "float64",
         "type": "float"
        },
        {
         "name": "hlb2_qb_hits",
         "rawType": "float64",
         "type": "float"
        },
        {
         "name": "hlb2_interceptions",
         "rawType": "float64",
         "type": "float"
        },
        {
         "name": "hlb2_interception_yards",
         "rawType": "float64",
         "type": "float"
        },
        {
         "name": "hlb3_tackles",
         "rawType": "float64",
         "type": "float"
        },
        {
         "name": "hlb3_tackles_solo",
         "rawType": "float64",
         "type": "float"
        },
        {
         "name": "hlb3_tackles_with_assist",
         "rawType": "float64",
         "type": "float"
        },
        {
         "name": "hlb3_tackles_for_loss",
         "rawType": "float64",
         "type": "float"
        },
        {
         "name": "hlb3_tackles_for_loss_yards",
         "rawType": "float64",
         "type": "float"
        },
        {
         "name": "hlb3_fumbles_forced",
         "rawType": "float64",
         "type": "float"
        },
        {
         "name": "hlb3_sacks",
         "rawType": "float64",
         "type": "float"
        },
        {
         "name": "hlb3_sack_yards",
         "rawType": "float64",
         "type": "float"
        },
        {
         "name": "hlb3_qb_hits",
         "rawType": "float64",
         "type": "float"
        },
        {
         "name": "hlb3_interceptions",
         "rawType": "float64",
         "type": "float"
        },
        {
         "name": "hlb3_interception_yards",
         "rawType": "float64",
         "type": "float"
        },
        {
         "name": "aqb1_passing_epa",
         "rawType": "float64",
         "type": "float"
        },
        {
         "name": "aqb1_completions",
         "rawType": "float64",
         "type": "float"
        },
        {
         "name": "aqb1_attempts",
         "rawType": "float64",
         "type": "float"
        },
        {
         "name": "aqb1_passing_yards",
         "rawType": "float64",
         "type": "float"
        },
        {
         "name": "aqb1_passing_tds",
         "rawType": "float64",
         "type": "float"
        },
        {
         "name": "aqb1_interceptions",
         "rawType": "float64",
         "type": "float"
        },
        {
         "name": "aqb1_sacks",
         "rawType": "float64",
         "type": "float"
        },
        {
         "name": "aqb1_sack_yards",
         "rawType": "float64",
         "type": "float"
        },
        {
         "name": "aqb1_passing_first_downs",
         "rawType": "float64",
         "type": "float"
        },
        {
         "name": "arb1_rushing_epa",
         "rawType": "float64",
         "type": "float"
        },
        {
         "name": "arb1_rushing_yards",
         "rawType": "float64",
         "type": "float"
        },
        {
         "name": "arb1_rushing_fumbles",
         "rawType": "float64",
         "type": "float"
        },
        {
         "name": "arb1_rushing_fumbles_lost",
         "rawType": "float64",
         "type": "float"
        },
        {
         "name": "arb1_receiving_epa",
         "rawType": "float64",
         "type": "float"
        },
        {
         "name": "arb1_receiving_yards_after_catch",
         "rawType": "float64",
         "type": "float"
        },
        {
         "name": "arb1_rushing_tds",
         "rawType": "float64",
         "type": "float"
        },
        {
         "name": "awr1_receiving_epa",
         "rawType": "float64",
         "type": "float"
        },
        {
         "name": "awr1_receptions",
         "rawType": "float64",
         "type": "float"
        },
        {
         "name": "awr1_targets",
         "rawType": "float64",
         "type": "float"
        },
        {
         "name": "awr1_receiving_tds",
         "rawType": "float64",
         "type": "float"
        },
        {
         "name": "awr1_receiving_fumbles",
         "rawType": "float64",
         "type": "float"
        },
        {
         "name": "awr1_receiving_fumbles_lost",
         "rawType": "float64",
         "type": "float"
        },
        {
         "name": "awr1_receiving_first_downs",
         "rawType": "float64",
         "type": "float"
        },
        {
         "name": "awr1_receiving_yards",
         "rawType": "float64",
         "type": "float"
        },
        {
         "name": "awr1_receiving_yards_after_catch",
         "rawType": "float64",
         "type": "float"
        },
        {
         "name": "awr2_receiving_epa",
         "rawType": "float64",
         "type": "float"
        },
        {
         "name": "awr2_receptions",
         "rawType": "float64",
         "type": "float"
        },
        {
         "name": "awr2_targets",
         "rawType": "float64",
         "type": "float"
        },
        {
         "name": "awr2_receiving_tds",
         "rawType": "float64",
         "type": "float"
        },
        {
         "name": "awr2_receiving_fumbles",
         "rawType": "float64",
         "type": "float"
        },
        {
         "name": "awr2_receiving_fumbles_lost",
         "rawType": "float64",
         "type": "float"
        },
        {
         "name": "awr2_receiving_first_downs",
         "rawType": "float64",
         "type": "float"
        },
        {
         "name": "awr2_receiving_yards",
         "rawType": "float64",
         "type": "float"
        },
        {
         "name": "awr2_receiving_yards_after_catch",
         "rawType": "float64",
         "type": "float"
        },
        {
         "name": "ate1_receiving_epa",
         "rawType": "float64",
         "type": "float"
        },
        {
         "name": "ate1_receptions",
         "rawType": "float64",
         "type": "float"
        },
        {
         "name": "ate1_targets",
         "rawType": "float64",
         "type": "float"
        },
        {
         "name": "ate1_receiving_tds",
         "rawType": "float64",
         "type": "float"
        },
        {
         "name": "ate1_receiving_fumbles",
         "rawType": "float64",
         "type": "float"
        },
        {
         "name": "ate1_receiving_fumbles_lost",
         "rawType": "float64",
         "type": "float"
        },
        {
         "name": "ate1_receiving_first_downs",
         "rawType": "float64",
         "type": "float"
        },
        {
         "name": "ate1_receiving_yards",
         "rawType": "float64",
         "type": "float"
        },
        {
         "name": "ate1_receiving_yards_after_catch",
         "rawType": "float64",
         "type": "float"
        },
        {
         "name": "adl1_tackles",
         "rawType": "float64",
         "type": "float"
        },
        {
         "name": "adl1_tackles_solo",
         "rawType": "float64",
         "type": "float"
        },
        {
         "name": "adl1_tackles_with_assist",
         "rawType": "float64",
         "type": "float"
        },
        {
         "name": "adl1_tackles_for_loss",
         "rawType": "float64",
         "type": "float"
        },
        {
         "name": "adl1_tackles_for_loss_yards",
         "rawType": "float64",
         "type": "float"
        },
        {
         "name": "adl1_fumbles_forced",
         "rawType": "float64",
         "type": "float"
        },
        {
         "name": "adl1_sacks",
         "rawType": "float64",
         "type": "float"
        },
        {
         "name": "adl1_sack_yards",
         "rawType": "float64",
         "type": "float"
        },
        {
         "name": "adl1_qb_hits",
         "rawType": "float64",
         "type": "float"
        },
        {
         "name": "adl1_interceptions",
         "rawType": "float64",
         "type": "float"
        },
        {
         "name": "adl1_interception_yards",
         "rawType": "float64",
         "type": "float"
        },
        {
         "name": "adl2_tackles",
         "rawType": "float64",
         "type": "float"
        },
        {
         "name": "adl2_tackles_solo",
         "rawType": "float64",
         "type": "float"
        },
        {
         "name": "adl2_tackles_with_assist",
         "rawType": "float64",
         "type": "float"
        },
        {
         "name": "adl2_tackles_for_loss",
         "rawType": "float64",
         "type": "float"
        },
        {
         "name": "adl2_tackles_for_loss_yards",
         "rawType": "float64",
         "type": "float"
        },
        {
         "name": "adl2_fumbles_forced",
         "rawType": "float64",
         "type": "float"
        },
        {
         "name": "adl2_sacks",
         "rawType": "float64",
         "type": "float"
        },
        {
         "name": "adl2_sack_yards",
         "rawType": "float64",
         "type": "float"
        },
        {
         "name": "adl2_qb_hits",
         "rawType": "float64",
         "type": "float"
        },
        {
         "name": "adl2_interceptions",
         "rawType": "float64",
         "type": "float"
        },
        {
         "name": "adl2_interception_yards",
         "rawType": "float64",
         "type": "float"
        },
        {
         "name": "adl3_tackles",
         "rawType": "float64",
         "type": "float"
        },
        {
         "name": "adl3_tackles_solo",
         "rawType": "float64",
         "type": "float"
        },
        {
         "name": "adl3_tackles_with_assist",
         "rawType": "float64",
         "type": "float"
        },
        {
         "name": "adl3_tackles_for_loss",
         "rawType": "float64",
         "type": "float"
        },
        {
         "name": "adl3_tackles_for_loss_yards",
         "rawType": "float64",
         "type": "float"
        },
        {
         "name": "adl3_fumbles_forced",
         "rawType": "float64",
         "type": "float"
        },
        {
         "name": "adl3_sacks",
         "rawType": "float64",
         "type": "float"
        },
        {
         "name": "adl3_sack_yards",
         "rawType": "float64",
         "type": "float"
        },
        {
         "name": "adl3_qb_hits",
         "rawType": "float64",
         "type": "float"
        },
        {
         "name": "adl3_interceptions",
         "rawType": "float64",
         "type": "float"
        },
        {
         "name": "adl3_interception_yards",
         "rawType": "float64",
         "type": "float"
        },
        {
         "name": "adl4_tackles",
         "rawType": "float64",
         "type": "float"
        },
        {
         "name": "adl4_tackles_solo",
         "rawType": "float64",
         "type": "float"
        },
        {
         "name": "adl4_tackles_with_assist",
         "rawType": "float64",
         "type": "float"
        },
        {
         "name": "adl4_tackles_for_loss",
         "rawType": "float64",
         "type": "float"
        },
        {
         "name": "adl4_tackles_for_loss_yards",
         "rawType": "float64",
         "type": "float"
        },
        {
         "name": "adl4_fumbles_forced",
         "rawType": "float64",
         "type": "float"
        },
        {
         "name": "adl4_sacks",
         "rawType": "float64",
         "type": "float"
        },
        {
         "name": "adl4_sack_yards",
         "rawType": "float64",
         "type": "float"
        },
        {
         "name": "adl4_qb_hits",
         "rawType": "float64",
         "type": "float"
        },
        {
         "name": "adl4_interceptions",
         "rawType": "float64",
         "type": "float"
        },
        {
         "name": "adl4_interception_yards",
         "rawType": "float64",
         "type": "float"
        },
        {
         "name": "adb1_tackles",
         "rawType": "float64",
         "type": "float"
        },
        {
         "name": "adb1_tackles_solo",
         "rawType": "float64",
         "type": "float"
        },
        {
         "name": "adb1_tackles_with_assist",
         "rawType": "float64",
         "type": "float"
        },
        {
         "name": "adb1_tackles_for_loss",
         "rawType": "float64",
         "type": "float"
        },
        {
         "name": "adb1_tackles_for_loss_yards",
         "rawType": "float64",
         "type": "float"
        },
        {
         "name": "adb1_fumbles_forced",
         "rawType": "float64",
         "type": "float"
        },
        {
         "name": "adb1_sacks",
         "rawType": "float64",
         "type": "float"
        },
        {
         "name": "adb1_sack_yards",
         "rawType": "float64",
         "type": "float"
        },
        {
         "name": "adb1_qb_hits",
         "rawType": "float64",
         "type": "float"
        },
        {
         "name": "adb1_interceptions",
         "rawType": "float64",
         "type": "float"
        },
        {
         "name": "adb1_interception_yards",
         "rawType": "float64",
         "type": "float"
        },
        {
         "name": "adb2_tackles",
         "rawType": "float64",
         "type": "float"
        },
        {
         "name": "adb2_tackles_solo",
         "rawType": "float64",
         "type": "float"
        },
        {
         "name": "adb2_tackles_with_assist",
         "rawType": "float64",
         "type": "float"
        },
        {
         "name": "adb2_tackles_for_loss",
         "rawType": "float64",
         "type": "float"
        },
        {
         "name": "adb2_tackles_for_loss_yards",
         "rawType": "float64",
         "type": "float"
        },
        {
         "name": "adb2_fumbles_forced",
         "rawType": "float64",
         "type": "float"
        },
        {
         "name": "adb2_sacks",
         "rawType": "float64",
         "type": "float"
        },
        {
         "name": "adb2_sack_yards",
         "rawType": "float64",
         "type": "float"
        },
        {
         "name": "adb2_qb_hits",
         "rawType": "float64",
         "type": "float"
        },
        {
         "name": "adb2_interceptions",
         "rawType": "float64",
         "type": "float"
        },
        {
         "name": "adb2_interception_yards",
         "rawType": "float64",
         "type": "float"
        },
        {
         "name": "adb3_tackles",
         "rawType": "float64",
         "type": "float"
        },
        {
         "name": "adb3_tackles_solo",
         "rawType": "float64",
         "type": "float"
        },
        {
         "name": "adb3_tackles_with_assist",
         "rawType": "float64",
         "type": "float"
        },
        {
         "name": "adb3_tackles_for_loss",
         "rawType": "float64",
         "type": "float"
        },
        {
         "name": "adb3_tackles_for_loss_yards",
         "rawType": "float64",
         "type": "float"
        },
        {
         "name": "adb3_fumbles_forced",
         "rawType": "float64",
         "type": "float"
        },
        {
         "name": "adb3_sacks",
         "rawType": "float64",
         "type": "float"
        },
        {
         "name": "adb3_sack_yards",
         "rawType": "float64",
         "type": "float"
        },
        {
         "name": "adb3_qb_hits",
         "rawType": "float64",
         "type": "float"
        },
        {
         "name": "adb3_interceptions",
         "rawType": "float64",
         "type": "float"
        },
        {
         "name": "adb3_interception_yards",
         "rawType": "float64",
         "type": "float"
        },
        {
         "name": "adb4_tackles",
         "rawType": "float64",
         "type": "float"
        },
        {
         "name": "adb4_tackles_solo",
         "rawType": "float64",
         "type": "float"
        },
        {
         "name": "adb4_tackles_with_assist",
         "rawType": "float64",
         "type": "float"
        },
        {
         "name": "adb4_tackles_for_loss",
         "rawType": "float64",
         "type": "float"
        },
        {
         "name": "adb4_tackles_for_loss_yards",
         "rawType": "float64",
         "type": "float"
        },
        {
         "name": "adb4_fumbles_forced",
         "rawType": "float64",
         "type": "float"
        },
        {
         "name": "adb4_sacks",
         "rawType": "float64",
         "type": "float"
        },
        {
         "name": "adb4_sack_yards",
         "rawType": "float64",
         "type": "float"
        },
        {
         "name": "adb4_qb_hits",
         "rawType": "float64",
         "type": "float"
        },
        {
         "name": "adb4_interceptions",
         "rawType": "float64",
         "type": "float"
        },
        {
         "name": "adb4_interception_yards",
         "rawType": "float64",
         "type": "float"
        },
        {
         "name": "alb1_tackles",
         "rawType": "float64",
         "type": "float"
        },
        {
         "name": "alb1_tackles_solo",
         "rawType": "float64",
         "type": "float"
        },
        {
         "name": "alb1_tackles_with_assist",
         "rawType": "float64",
         "type": "float"
        },
        {
         "name": "alb1_tackles_for_loss",
         "rawType": "float64",
         "type": "float"
        },
        {
         "name": "alb1_tackles_for_loss_yards",
         "rawType": "float64",
         "type": "float"
        },
        {
         "name": "alb1_fumbles_forced",
         "rawType": "float64",
         "type": "float"
        },
        {
         "name": "alb1_sacks",
         "rawType": "float64",
         "type": "float"
        },
        {
         "name": "alb1_sack_yards",
         "rawType": "float64",
         "type": "float"
        },
        {
         "name": "alb1_qb_hits",
         "rawType": "float64",
         "type": "float"
        },
        {
         "name": "alb1_interceptions",
         "rawType": "float64",
         "type": "float"
        },
        {
         "name": "alb1_interception_yards",
         "rawType": "float64",
         "type": "float"
        },
        {
         "name": "alb2_tackles",
         "rawType": "float64",
         "type": "float"
        },
        {
         "name": "alb2_tackles_solo",
         "rawType": "float64",
         "type": "float"
        },
        {
         "name": "alb2_tackles_with_assist",
         "rawType": "float64",
         "type": "float"
        },
        {
         "name": "alb2_tackles_for_loss",
         "rawType": "float64",
         "type": "float"
        },
        {
         "name": "alb2_tackles_for_loss_yards",
         "rawType": "float64",
         "type": "float"
        },
        {
         "name": "alb2_fumbles_forced",
         "rawType": "float64",
         "type": "float"
        },
        {
         "name": "alb2_sacks",
         "rawType": "float64",
         "type": "float"
        },
        {
         "name": "alb2_sack_yards",
         "rawType": "float64",
         "type": "float"
        },
        {
         "name": "alb2_qb_hits",
         "rawType": "float64",
         "type": "float"
        },
        {
         "name": "alb2_interceptions",
         "rawType": "float64",
         "type": "float"
        },
        {
         "name": "alb2_interception_yards",
         "rawType": "float64",
         "type": "float"
        },
        {
         "name": "alb3_tackles",
         "rawType": "float64",
         "type": "float"
        },
        {
         "name": "alb3_tackles_solo",
         "rawType": "float64",
         "type": "float"
        },
        {
         "name": "alb3_tackles_with_assist",
         "rawType": "float64",
         "type": "float"
        },
        {
         "name": "alb3_tackles_for_loss",
         "rawType": "float64",
         "type": "float"
        },
        {
         "name": "alb3_tackles_for_loss_yards",
         "rawType": "float64",
         "type": "float"
        },
        {
         "name": "alb3_fumbles_forced",
         "rawType": "float64",
         "type": "float"
        },
        {
         "name": "alb3_sacks",
         "rawType": "float64",
         "type": "float"
        },
        {
         "name": "alb3_sack_yards",
         "rawType": "float64",
         "type": "float"
        },
        {
         "name": "alb3_qb_hits",
         "rawType": "float64",
         "type": "float"
        },
        {
         "name": "alb3_interceptions",
         "rawType": "float64",
         "type": "float"
        },
        {
         "name": "alb3_interception_yards",
         "rawType": "float64",
         "type": "float"
        }
       ],
       "ref": "1d5d2394-7253-4df1-b9a0-4d9405e65603",
       "rows": [
        [
         "0",
         "2024.0",
         "16.0",
         "-5.5",
         "0.24410904856414017",
         "20.666666666666668",
         "33.333333333333336",
         "239.66666666666666",
         "1.0",
         "0.3333333333333333",
         "2.0",
         "13.0",
         "11.0",
         "-2.1025161614608168",
         "75.33333333333333",
         "0.0",
         "0.0",
         "-0.18585747445467837",
         "19.0",
         "0.3333333333333333",
         "5.31690877742876",
         "4.0",
         "5.333333333333333",
         "0.6666666666666666",
         "0.0",
         "0.0",
         "3.0",
         "70.33333333333333",
         "39.0",
         "2.611140091332024",
         "3.6666666666666665",
         "5.333333333333333",
         "0.3333333333333333",
         "0.0",
         "0.0",
         "2.3333333333333335",
         "53.666666666666664",
         "26.0",
         "0.546069639657312",
         "1.6666666666666667",
         "1.6666666666666667",
         "0.0",
         "0.0",
         "0.0",
         "0.6666666666666666",
         "13.666666666666666",
         "7.333333333333333",
         "3.0",
         "3.0",
         "0.0",
         "1.0",
         "0.0",
         "0.3333333333333333",
         "1.1666666666666667",
         "8.5",
         "1.0",
         "0.0",
         "0.0",
         "2.0",
         "1.6666666666666667",
         "0.3333333333333333",
         "0.6666666666666666",
         "0.0",
         "0.0",
         "0.8333333333333334",
         "7.5",
         "1.0",
         "0.0",
         "0.0",
         "1.3333333333333333",
         "1.3333333333333333",
         "0.0",
         "0.0",
         "0.0",
         "0.0",
         "0.16666666666666666",
         "0.16666666666666666",
         "1.3333333333333333",
         "0.0",
         "0.0",
         "0.3333333333333333",
         "0.3333333333333333",
         "0.0",
         "0.0",
         "0.0",
         "0.0",
         "0.0",
         "0.0",
         "0.3333333333333333",
         "0.0",
         "0.0",
         "6.333333333333333",
         "6.0",
         "0.3333333333333333",
         "0.0",
         "0.0",
         "0.6666666666666666",
         "0.16666666666666666",
         "0.3333333333333333",
         "0.3333333333333333",
         "0.0",
         "0.0",
         "4.333333333333333",
         "4.0",
         "0.3333333333333333",
         "0.3333333333333333",
         "0.0",
         "0.0",
         "0.0",
         "0.0",
         "0.0",
         "0.0",
         "0.0",
         "3.6666666666666665",
         "3.0",
         "0.6666666666666666",
         "0.0",
         "0.0",
         "0.0",
         "0.0",
         "0.0",
         "0.3333333333333333",
         "0.6666666666666666",
         "-0.3333333333333333",
         "2.6666666666666665",
         "2.6666666666666665",
         "0.0",
         "0.3333333333333333",
         "0.0",
         "0.0",
         "0.3333333333333333",
         "1.3333333333333333",
         "0.3333333333333333",
         "0.0",
         "0.0",
         "6.333333333333333",
         "4.666666666666667",
         "1.6666666666666667",
         "0.6666666666666666",
         "1.3333333333333333",
         "0.0",
         "0.0",
         "0.0",
         "0.0",
         "0.0",
         "0.0",
         "2.6666666666666665",
         "2.6666666666666665",
         "0.0",
         "0.0",
         "0.0",
         "0.3333333333333333",
         "0.0",
         "0.0",
         "0.0",
         "0.0",
         "0.0",
         "1.1074538745387454",
         "0.9675276752767528",
         "0.13992619926199262",
         "0.42720787207872074",
         "0.10238622386223863",
         "0.02031980319803198",
         "0.5662976629766298",
         "3.4333579335793356",
         "0.7775645756457564",
         "0.00974169741697417",
         "0.12782287822878227",
         "13.172290379141254",
         "16.333333333333332",
         "21.666666666666668",
         "237.33333333333334",
         "3.0",
         "0.3333333333333333",
         "1.6666666666666667",
         "9.0",
         "10.0",
         "3.46599058068629",
         "88.0",
         "0.0",
         "0.0",
         "0.96774463468076",
         "8.666666666666666",
         "0.3333333333333333",
         "4.5087788152257",
         "2.6666666666666665",
         "3.6666666666666665",
         "1.0",
         "0.0",
         "0.0",
         "2.0",
         "54.0",
         "10.0",
         "2.1023187676910293",
         "1.0",
         "1.0",
         "0.3333333333333333",
         "0.0",
         "0.0",
         "1.0",
         "16.333333333333332",
         "4.666666666666667",
         "5.138599286855119",
         "2.6666666666666665",
         "3.0",
         "1.0",
         "0.0",
         "0.0",
         "2.0",
         "55.0",
         "22.333333333333332",
         "1.3333333333333333",
         "1.3333333333333333",
         "0.0",
         "0.0",
         "0.0",
         "0.0",
         "0.16666666666666666",
         "0.16666666666666666",
         "0.3333333333333333",
         "0.0",
         "0.0",
         "0.6666666666666666",
         "0.6666666666666666",
         "0.0",
         "0.0",
         "0.0",
         "0.0",
         "0.0",
         "0.0",
         "0.0",
         "0.0",
         "0.0",
         "0.6666666666666666",
         "0.6666666666666666",
         "0.0",
         "0.0",
         "0.0",
         "0.0",
         "0.0",
         "0.0",
         "0.3333333333333333",
         "0.0",
         "0.0",
         "0.3333333333333333",
         "0.3333333333333333",
         "0.0",
         "0.3333333333333333",
         "0.0",
         "0.0",
         "0.3333333333333333",
         "1.3333333333333333",
         "1.0",
         "0.0",
         "0.0",
         "5.0",
         "5.0",
         "0.0",
         "0.3333333333333333",
         "0.6666666666666666",
         "0.3333333333333333",
         "0.0",
         "0.0",
         "0.3333333333333333",
         "0.0",
         "0.0",
         "2.6666666666666665",
         "2.3333333333333335",
         "0.3333333333333333",
         "0.3333333333333333",
         "0.3333333333333333",
         "0.0",
         "0.0",
         "0.0",
         "0.3333333333333333",
         "0.0",
         "0.0",
         "2.3333333333333335",
         "2.3333333333333335",
         "0.0",
         "0.0",
         "0.0",
         "0.0",
         "0.0",
         "0.0",
         "0.0",
         "0.3333333333333333",
         "10.666666666666666",
         "2.0",
         "1.6666666666666667",
         "0.3333333333333333",
         "0.0",
         "0.0",
         "0.0",
         "0.0",
         "0.0",
         "0.0",
         "0.0",
         "0.0",
         "5.0",
         "4.0",
         "1.0",
         "0.6666666666666666",
         "0.6666666666666666",
         "0.0",
         "0.3333333333333333",
         "0.0",
         "0.3333333333333333",
         "0.0",
         "0.0",
         "2.3333333333333335",
         "2.3333333333333335",
         "0.0",
         "1.3333333333333333",
         "0.6666666666666666",
         "0.0",
         "0.6666666666666666",
         "5.333333333333333",
         "0.6666666666666666",
         "0.0",
         "0.0",
         "2.0",
         "2.0",
         "0.0",
         "0.6666666666666666",
         "0.0",
         "0.0",
         "0.6666666666666666",
         "4.333333333333333",
         "1.0",
         "0.0",
         "0.0"
        ]
       ],
       "shape": {
        "columns": 331,
        "rows": 1
       }
      },
      "text/html": [
       "<div>\n",
       "<style scoped>\n",
       "    .dataframe tbody tr th:only-of-type {\n",
       "        vertical-align: middle;\n",
       "    }\n",
       "\n",
       "    .dataframe tbody tr th {\n",
       "        vertical-align: top;\n",
       "    }\n",
       "\n",
       "    .dataframe thead th {\n",
       "        text-align: right;\n",
       "    }\n",
       "</style>\n",
       "<table border=\"1\" class=\"dataframe\">\n",
       "  <thead>\n",
       "    <tr style=\"text-align: right;\">\n",
       "      <th></th>\n",
       "      <th>season</th>\n",
       "      <th>week</th>\n",
       "      <th>spread_line</th>\n",
       "      <th>hqb1_passing_epa</th>\n",
       "      <th>hqb1_completions</th>\n",
       "      <th>hqb1_attempts</th>\n",
       "      <th>hqb1_passing_yards</th>\n",
       "      <th>hqb1_passing_tds</th>\n",
       "      <th>hqb1_interceptions</th>\n",
       "      <th>hqb1_sacks</th>\n",
       "      <th>...</th>\n",
       "      <th>alb3_tackles_solo</th>\n",
       "      <th>alb3_tackles_with_assist</th>\n",
       "      <th>alb3_tackles_for_loss</th>\n",
       "      <th>alb3_tackles_for_loss_yards</th>\n",
       "      <th>alb3_fumbles_forced</th>\n",
       "      <th>alb3_sacks</th>\n",
       "      <th>alb3_sack_yards</th>\n",
       "      <th>alb3_qb_hits</th>\n",
       "      <th>alb3_interceptions</th>\n",
       "      <th>alb3_interception_yards</th>\n",
       "    </tr>\n",
       "  </thead>\n",
       "  <tbody>\n",
       "    <tr>\n",
       "      <th>0</th>\n",
       "      <td>2024.0</td>\n",
       "      <td>16.0</td>\n",
       "      <td>-5.5</td>\n",
       "      <td>0.244109</td>\n",
       "      <td>20.666667</td>\n",
       "      <td>33.333333</td>\n",
       "      <td>239.666667</td>\n",
       "      <td>1.0</td>\n",
       "      <td>0.333333</td>\n",
       "      <td>2.0</td>\n",
       "      <td>...</td>\n",
       "      <td>2.0</td>\n",
       "      <td>0.0</td>\n",
       "      <td>0.666667</td>\n",
       "      <td>0.0</td>\n",
       "      <td>0.0</td>\n",
       "      <td>0.666667</td>\n",
       "      <td>4.333333</td>\n",
       "      <td>1.0</td>\n",
       "      <td>0.0</td>\n",
       "      <td>0.0</td>\n",
       "    </tr>\n",
       "  </tbody>\n",
       "</table>\n",
       "<p>1 rows × 331 columns</p>\n",
       "</div>"
      ],
      "text/plain": [
       "   season  week  spread_line  hqb1_passing_epa  hqb1_completions  \\\n",
       "0  2024.0  16.0         -5.5          0.244109         20.666667   \n",
       "\n",
       "   hqb1_attempts  hqb1_passing_yards  hqb1_passing_tds  hqb1_interceptions  \\\n",
       "0      33.333333          239.666667               1.0            0.333333   \n",
       "\n",
       "   hqb1_sacks  ...  alb3_tackles_solo  alb3_tackles_with_assist  \\\n",
       "0         2.0  ...                2.0                       0.0   \n",
       "\n",
       "   alb3_tackles_for_loss  alb3_tackles_for_loss_yards  alb3_fumbles_forced  \\\n",
       "0               0.666667                          0.0                  0.0   \n",
       "\n",
       "   alb3_sacks  alb3_sack_yards  alb3_qb_hits  alb3_interceptions  \\\n",
       "0    0.666667         4.333333           1.0                 0.0   \n",
       "\n",
       "   alb3_interception_yards  \n",
       "0                      0.0  \n",
       "\n",
       "[1 rows x 331 columns]"
      ]
     },
     "execution_count": 76,
     "metadata": {},
     "output_type": "execute_result"
    }
   ],
   "source": [
    "main()"
   ]
  },
  {
   "cell_type": "code",
   "execution_count": null,
   "id": "47c9d17b",
   "metadata": {},
   "outputs": [],
   "source": []
  }
 ],
 "metadata": {
  "kernelspec": {
   "display_name": ".venv",
   "language": "python",
   "name": "python3"
  },
  "language_info": {
   "codemirror_mode": {
    "name": "ipython",
    "version": 3
   },
   "file_extension": ".py",
   "mimetype": "text/x-python",
   "name": "python",
   "nbconvert_exporter": "python",
   "pygments_lexer": "ipython3",
   "version": "3.10.11"
  }
 },
 "nbformat": 4,
 "nbformat_minor": 5
}
